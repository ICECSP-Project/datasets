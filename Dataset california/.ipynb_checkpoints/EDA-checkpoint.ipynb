{
 "cells": [
  {
   "cell_type": "markdown",
   "metadata": {},
   "source": [
    "## Loading pre-requisite packages/libraries"
   ]
  },
  {
   "cell_type": "code",
   "execution_count": 8,
   "metadata": {},
   "outputs": [],
   "source": [
    "library(ggplot2)"
   ]
  },
  {
   "cell_type": "markdown",
   "metadata": {},
   "source": [
    "## Loading the dataset"
   ]
  },
  {
   "cell_type": "code",
   "execution_count": 4,
   "metadata": {},
   "outputs": [
    {
     "data": {
      "text/html": [
       "<ol class=list-inline>\n",
       "\t<li>20640</li>\n",
       "\t<li>10</li>\n",
       "</ol>\n"
      ],
      "text/latex": [
       "\\begin{enumerate*}\n",
       "\\item 20640\n",
       "\\item 10\n",
       "\\end{enumerate*}\n"
      ],
      "text/markdown": [
       "1. 20640\n",
       "2. 10\n",
       "\n",
       "\n"
      ],
      "text/plain": [
       "[1] 20640    10"
      ]
     },
     "metadata": {},
     "output_type": "display_data"
    },
    {
     "data": {
      "text/html": [
       "<ol class=list-inline>\n",
       "\t<li>'longitude'</li>\n",
       "\t<li>'latitude'</li>\n",
       "\t<li>'housing_median_age'</li>\n",
       "\t<li>'total_rooms'</li>\n",
       "\t<li>'total_bedrooms'</li>\n",
       "\t<li>'population'</li>\n",
       "\t<li>'households'</li>\n",
       "\t<li>'median_income'</li>\n",
       "\t<li>'median_house_value'</li>\n",
       "\t<li>'ocean_proximity'</li>\n",
       "</ol>\n"
      ],
      "text/latex": [
       "\\begin{enumerate*}\n",
       "\\item 'longitude'\n",
       "\\item 'latitude'\n",
       "\\item 'housing\\_median\\_age'\n",
       "\\item 'total\\_rooms'\n",
       "\\item 'total\\_bedrooms'\n",
       "\\item 'population'\n",
       "\\item 'households'\n",
       "\\item 'median\\_income'\n",
       "\\item 'median\\_house\\_value'\n",
       "\\item 'ocean\\_proximity'\n",
       "\\end{enumerate*}\n"
      ],
      "text/markdown": [
       "1. 'longitude'\n",
       "2. 'latitude'\n",
       "3. 'housing_median_age'\n",
       "4. 'total_rooms'\n",
       "5. 'total_bedrooms'\n",
       "6. 'population'\n",
       "7. 'households'\n",
       "8. 'median_income'\n",
       "9. 'median_house_value'\n",
       "10. 'ocean_proximity'\n",
       "\n",
       "\n"
      ],
      "text/plain": [
       " [1] \"longitude\"          \"latitude\"           \"housing_median_age\"\n",
       " [4] \"total_rooms\"        \"total_bedrooms\"     \"population\"        \n",
       " [7] \"households\"         \"median_income\"      \"median_house_value\"\n",
       "[10] \"ocean_proximity\"   "
      ]
     },
     "metadata": {},
     "output_type": "display_data"
    }
   ],
   "source": [
    "data = read.csv(\"housing.csv\")\n",
    "dim(data); names(data)"
   ]
  },
  {
   "cell_type": "code",
   "execution_count": 5,
   "metadata": {},
   "outputs": [
    {
     "data": {
      "text/html": [
       "<table>\n",
       "<thead><tr><th scope=col>longitude</th><th scope=col>latitude</th><th scope=col>housing_median_age</th><th scope=col>total_rooms</th><th scope=col>total_bedrooms</th><th scope=col>population</th><th scope=col>households</th><th scope=col>median_income</th><th scope=col>median_house_value</th><th scope=col>ocean_proximity</th></tr></thead>\n",
       "<tbody>\n",
       "\t<tr><td>-122.23 </td><td>37.88   </td><td>41      </td><td> 880    </td><td> 129    </td><td> 322    </td><td> 126    </td><td>8.3252  </td><td>452600  </td><td>NEAR BAY</td></tr>\n",
       "\t<tr><td>-122.22 </td><td>37.86   </td><td>21      </td><td>7099    </td><td>1106    </td><td>2401    </td><td>1138    </td><td>8.3014  </td><td>358500  </td><td>NEAR BAY</td></tr>\n",
       "\t<tr><td>-122.24 </td><td>37.85   </td><td>52      </td><td>1467    </td><td> 190    </td><td> 496    </td><td> 177    </td><td>7.2574  </td><td>352100  </td><td>NEAR BAY</td></tr>\n",
       "\t<tr><td>-122.25 </td><td>37.85   </td><td>52      </td><td>1274    </td><td> 235    </td><td> 558    </td><td> 219    </td><td>5.6431  </td><td>341300  </td><td>NEAR BAY</td></tr>\n",
       "\t<tr><td>-122.25 </td><td>37.85   </td><td>52      </td><td>1627    </td><td> 280    </td><td> 565    </td><td> 259    </td><td>3.8462  </td><td>342200  </td><td>NEAR BAY</td></tr>\n",
       "\t<tr><td>-122.25 </td><td>37.85   </td><td>52      </td><td> 919    </td><td> 213    </td><td> 413    </td><td> 193    </td><td>4.0368  </td><td>269700  </td><td>NEAR BAY</td></tr>\n",
       "</tbody>\n",
       "</table>\n"
      ],
      "text/latex": [
       "\\begin{tabular}{r|llllllllll}\n",
       " longitude & latitude & housing\\_median\\_age & total\\_rooms & total\\_bedrooms & population & households & median\\_income & median\\_house\\_value & ocean\\_proximity\\\\\n",
       "\\hline\n",
       "\t -122.23  & 37.88    & 41       &  880     &  129     &  322     &  126     & 8.3252   & 452600   & NEAR BAY\\\\\n",
       "\t -122.22  & 37.86    & 21       & 7099     & 1106     & 2401     & 1138     & 8.3014   & 358500   & NEAR BAY\\\\\n",
       "\t -122.24  & 37.85    & 52       & 1467     &  190     &  496     &  177     & 7.2574   & 352100   & NEAR BAY\\\\\n",
       "\t -122.25  & 37.85    & 52       & 1274     &  235     &  558     &  219     & 5.6431   & 341300   & NEAR BAY\\\\\n",
       "\t -122.25  & 37.85    & 52       & 1627     &  280     &  565     &  259     & 3.8462   & 342200   & NEAR BAY\\\\\n",
       "\t -122.25  & 37.85    & 52       &  919     &  213     &  413     &  193     & 4.0368   & 269700   & NEAR BAY\\\\\n",
       "\\end{tabular}\n"
      ],
      "text/markdown": [
       "\n",
       "| longitude | latitude | housing_median_age | total_rooms | total_bedrooms | population | households | median_income | median_house_value | ocean_proximity |\n",
       "|---|---|---|---|---|---|---|---|---|---|\n",
       "| -122.23  | 37.88    | 41       |  880     |  129     |  322     |  126     | 8.3252   | 452600   | NEAR BAY |\n",
       "| -122.22  | 37.86    | 21       | 7099     | 1106     | 2401     | 1138     | 8.3014   | 358500   | NEAR BAY |\n",
       "| -122.24  | 37.85    | 52       | 1467     |  190     |  496     |  177     | 7.2574   | 352100   | NEAR BAY |\n",
       "| -122.25  | 37.85    | 52       | 1274     |  235     |  558     |  219     | 5.6431   | 341300   | NEAR BAY |\n",
       "| -122.25  | 37.85    | 52       | 1627     |  280     |  565     |  259     | 3.8462   | 342200   | NEAR BAY |\n",
       "| -122.25  | 37.85    | 52       |  919     |  213     |  413     |  193     | 4.0368   | 269700   | NEAR BAY |\n",
       "\n"
      ],
      "text/plain": [
       "  longitude latitude housing_median_age total_rooms total_bedrooms population\n",
       "1 -122.23   37.88    41                  880         129            322      \n",
       "2 -122.22   37.86    21                 7099        1106           2401      \n",
       "3 -122.24   37.85    52                 1467         190            496      \n",
       "4 -122.25   37.85    52                 1274         235            558      \n",
       "5 -122.25   37.85    52                 1627         280            565      \n",
       "6 -122.25   37.85    52                  919         213            413      \n",
       "  households median_income median_house_value ocean_proximity\n",
       "1  126       8.3252        452600             NEAR BAY       \n",
       "2 1138       8.3014        358500             NEAR BAY       \n",
       "3  177       7.2574        352100             NEAR BAY       \n",
       "4  219       5.6431        341300             NEAR BAY       \n",
       "5  259       3.8462        342200             NEAR BAY       \n",
       "6  193       4.0368        269700             NEAR BAY       "
      ]
     },
     "metadata": {},
     "output_type": "display_data"
    }
   ],
   "source": [
    "head(data)"
   ]
  },
  {
   "cell_type": "markdown",
   "metadata": {},
   "source": [
    "## EDA"
   ]
  },
  {
   "cell_type": "code",
   "execution_count": 23,
   "metadata": {},
   "outputs": [
    {
     "data": {
      "image/png": "[encoded data removed]",
      "text/plain": [
       "plot without title"
      ]
     },
     "metadata": {},
     "output_type": "display_data"
    }
   ],
   "source": [
    "options(repr.plot.width=4, repr.plot.height=4)\n",
    "ggplot(data,\n",
    "      aes(x = median_house_value)\n",
    "      ) + geom_histogram(fill = \"skyblue\", bins = 25) + theme_bw()"
   ]
  },
  {
   "cell_type": "code",
   "execution_count": null,
   "metadata": {},
   "outputs": [],
   "source": []
  }
 ],
 "metadata": {
  "kernelspec": {
   "display_name": "R",
   "language": "R",
   "name": "ir"
  },
  "language_info": {
   "codemirror_mode": "r",
   "file_extension": ".r",
   "mimetype": "text/x-r-source",
   "name": "R",
   "pygments_lexer": "r",
   "version": "3.6.1"
  }
 },
 "nbformat": 4,
 "nbformat_minor": 4
}
