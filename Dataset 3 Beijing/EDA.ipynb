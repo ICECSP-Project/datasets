{
 "cells": [
  {
   "cell_type": "markdown",
   "metadata": {},
   "source": [
    "## Packages/Libraries"
   ]
  },
  {
   "cell_type": "code",
   "execution_count": 21,
   "metadata": {},
   "outputs": [],
   "source": [
    "library(ggplot2)\n",
    "options(repr.plot.width=6, repr.plot.height=4)"
   ]
  },
  {
   "cell_type": "markdown",
   "metadata": {},
   "source": [
    "## Data"
   ]
  },
  {
   "cell_type": "code",
   "execution_count": 11,
   "metadata": {},
   "outputs": [
    {
     "data": {
      "text/html": [
       "<ol class=list-inline>\n",
       "\t<li>318851</li>\n",
       "\t<li>26</li>\n",
       "</ol>\n"
      ],
      "text/latex": [
       "\\begin{enumerate*}\n",
       "\\item 318851\n",
       "\\item 26\n",
       "\\end{enumerate*}\n"
      ],
      "text/markdown": [
       "1. 318851\n",
       "2. 26\n",
       "\n",
       "\n"
      ],
      "text/plain": [
       "[1] 318851     26"
      ]
     },
     "metadata": {},
     "output_type": "display_data"
    }
   ],
   "source": [
    "data = read.csv(\"beijing.csv\"); dim(data)"
   ]
  },
  {
   "cell_type": "code",
   "execution_count": 12,
   "metadata": {},
   "outputs": [
    {
     "data": {
      "text/html": [
       "<table>\n",
       "<thead><tr><th scope=col>url</th><th scope=col>id</th><th scope=col>Lng</th><th scope=col>Lat</th><th scope=col>Cid</th><th scope=col>tradeTime</th><th scope=col>DOM</th><th scope=col>followers</th><th scope=col>totalPrice</th><th scope=col>price</th><th scope=col>...</th><th scope=col>buildingType</th><th scope=col>constructionTime</th><th scope=col>renovationCondition</th><th scope=col>buildingStructure</th><th scope=col>ladderRatio</th><th scope=col>elevator</th><th scope=col>fiveYearsProperty</th><th scope=col>subway</th><th scope=col>district</th><th scope=col>communityAverage</th></tr></thead>\n",
       "<tbody>\n",
       "\t<tr><td>https://bj.lianjia.com/chengjiao/101084782030.html</td><td>101084782030                                      </td><td>116.4755                                          </td><td>40.01952                                          </td><td>1.111027e+12                                      </td><td>2016-08-09                                        </td><td>1464                                              </td><td>106                                               </td><td> 415.0                                            </td><td>31680                                             </td><td>...                                               </td><td>1                                                 </td><td>2005                                              </td><td>3                                                 </td><td>6                                                 </td><td>0.217                                             </td><td>1                                                 </td><td>0                                                 </td><td>1                                                 </td><td>7                                                 </td><td>56021                                             </td></tr>\n",
       "\t<tr><td>https://bj.lianjia.com/chengjiao/101086012217.html</td><td>101086012217                                      </td><td>116.4539                                          </td><td>39.88153                                          </td><td>1.111027e+12                                      </td><td>2016-07-28                                        </td><td> 903                                              </td><td>126                                               </td><td> 575.0                                            </td><td>43436                                             </td><td>...                                               </td><td>1                                                 </td><td>2004                                              </td><td>4                                                 </td><td>6                                                 </td><td>0.667                                             </td><td>1                                                 </td><td>1                                                 </td><td>0                                                 </td><td>7                                                 </td><td>71539                                             </td></tr>\n",
       "\t<tr><td>https://bj.lianjia.com/chengjiao/101086041636.html</td><td>101086041636                                      </td><td>116.5620                                          </td><td>39.87714                                          </td><td>1.111041e+12                                      </td><td>2016-12-11                                        </td><td>1271                                              </td><td> 48                                               </td><td>1030.0                                            </td><td>52021                                             </td><td>...                                               </td><td>4                                                 </td><td>2005                                              </td><td>3                                                 </td><td>6                                                 </td><td>0.500                                             </td><td>1                                                 </td><td>0                                                 </td><td>0                                                 </td><td>7                                                 </td><td>48160                                             </td></tr>\n",
       "\t<tr><td>https://bj.lianjia.com/chengjiao/101086406841.html</td><td>101086406841                                      </td><td>116.4380                                          </td><td>40.07611                                          </td><td>1.111043e+12                                      </td><td>2016-09-30                                        </td><td> 965                                              </td><td>138                                               </td><td> 297.5                                            </td><td>22202                                             </td><td>...                                               </td><td>1                                                 </td><td>2008                                              </td><td>1                                                 </td><td>6                                                 </td><td>0.273                                             </td><td>1                                                 </td><td>0                                                 </td><td>0                                                 </td><td>6                                                 </td><td>51238                                             </td></tr>\n",
       "\t<tr><td>https://bj.lianjia.com/chengjiao/101086920653.html</td><td>101086920653                                      </td><td>116.4284                                          </td><td>39.88623                                          </td><td>1.111027e+12                                      </td><td>2016-08-28                                        </td><td> 927                                              </td><td>286                                               </td><td> 392.0                                            </td><td>48396                                             </td><td>...                                               </td><td>4                                                 </td><td>1960                                              </td><td>2                                                 </td><td>2                                                 </td><td>0.333                                             </td><td>0                                                 </td><td>1                                                 </td><td>1                                                 </td><td>1                                                 </td><td>62588                                             </td></tr>\n",
       "\t<tr><td>https://bj.lianjia.com/chengjiao/101087277815.html</td><td>101087277815                                      </td><td>116.4663                                          </td><td>39.99136                                          </td><td>1.111027e+12                                      </td><td>2016-07-22                                        </td><td> 861                                              </td><td> 57                                               </td><td> 275.6                                            </td><td>52000                                             </td><td>...                                               </td><td>4                                                 </td><td>2005                                              </td><td>3                                                 </td><td>6                                                 </td><td>0.333                                             </td><td>1                                                 </td><td>1                                                 </td><td>0                                                 </td><td>7                                                 </td><td>67738                                             </td></tr>\n",
       "</tbody>\n",
       "</table>\n"
      ],
      "text/latex": [
       "\\begin{tabular}{r|llllllllllllllllllllllllll}\n",
       " url & id & Lng & Lat & Cid & tradeTime & DOM & followers & totalPrice & price & ... & buildingType & constructionTime & renovationCondition & buildingStructure & ladderRatio & elevator & fiveYearsProperty & subway & district & communityAverage\\\\\n",
       "\\hline\n",
       "\t https://bj.lianjia.com/chengjiao/101084782030.html & 101084782030                                       & 116.4755                                           & 40.01952                                           & 1.111027e+12                                       & 2016-08-09                                         & 1464                                               & 106                                                &  415.0                                             & 31680                                              & ...                                                & 1                                                  & 2005                                               & 3                                                  & 6                                                  & 0.217                                              & 1                                                  & 0                                                  & 1                                                  & 7                                                  & 56021                                             \\\\\n",
       "\t https://bj.lianjia.com/chengjiao/101086012217.html & 101086012217                                       & 116.4539                                           & 39.88153                                           & 1.111027e+12                                       & 2016-07-28                                         &  903                                               & 126                                                &  575.0                                             & 43436                                              & ...                                                & 1                                                  & 2004                                               & 4                                                  & 6                                                  & 0.667                                              & 1                                                  & 1                                                  & 0                                                  & 7                                                  & 71539                                             \\\\\n",
       "\t https://bj.lianjia.com/chengjiao/101086041636.html & 101086041636                                       & 116.5620                                           & 39.87714                                           & 1.111041e+12                                       & 2016-12-11                                         & 1271                                               &  48                                                & 1030.0                                             & 52021                                              & ...                                                & 4                                                  & 2005                                               & 3                                                  & 6                                                  & 0.500                                              & 1                                                  & 0                                                  & 0                                                  & 7                                                  & 48160                                             \\\\\n",
       "\t https://bj.lianjia.com/chengjiao/101086406841.html & 101086406841                                       & 116.4380                                           & 40.07611                                           & 1.111043e+12                                       & 2016-09-30                                         &  965                                               & 138                                                &  297.5                                             & 22202                                              & ...                                                & 1                                                  & 2008                                               & 1                                                  & 6                                                  & 0.273                                              & 1                                                  & 0                                                  & 0                                                  & 6                                                  & 51238                                             \\\\\n",
       "\t https://bj.lianjia.com/chengjiao/101086920653.html & 101086920653                                       & 116.4284                                           & 39.88623                                           & 1.111027e+12                                       & 2016-08-28                                         &  927                                               & 286                                                &  392.0                                             & 48396                                              & ...                                                & 4                                                  & 1960                                               & 2                                                  & 2                                                  & 0.333                                              & 0                                                  & 1                                                  & 1                                                  & 1                                                  & 62588                                             \\\\\n",
       "\t https://bj.lianjia.com/chengjiao/101087277815.html & 101087277815                                       & 116.4663                                           & 39.99136                                           & 1.111027e+12                                       & 2016-07-22                                         &  861                                               &  57                                                &  275.6                                             & 52000                                              & ...                                                & 4                                                  & 2005                                               & 3                                                  & 6                                                  & 0.333                                              & 1                                                  & 1                                                  & 0                                                  & 7                                                  & 67738                                             \\\\\n",
       "\\end{tabular}\n"
      ],
      "text/markdown": [
       "\n",
       "| url | id | Lng | Lat | Cid | tradeTime | DOM | followers | totalPrice | price | ... | buildingType | constructionTime | renovationCondition | buildingStructure | ladderRatio | elevator | fiveYearsProperty | subway | district | communityAverage |\n",
       "|---|---|---|---|---|---|---|---|---|---|---|---|---|---|---|---|---|---|---|---|---|\n",
       "| https://bj.lianjia.com/chengjiao/101084782030.html | 101084782030                                       | 116.4755                                           | 40.01952                                           | 1.111027e+12                                       | 2016-08-09                                         | 1464                                               | 106                                                |  415.0                                             | 31680                                              | ...                                                | 1                                                  | 2005                                               | 3                                                  | 6                                                  | 0.217                                              | 1                                                  | 0                                                  | 1                                                  | 7                                                  | 56021                                              |\n",
       "| https://bj.lianjia.com/chengjiao/101086012217.html | 101086012217                                       | 116.4539                                           | 39.88153                                           | 1.111027e+12                                       | 2016-07-28                                         |  903                                               | 126                                                |  575.0                                             | 43436                                              | ...                                                | 1                                                  | 2004                                               | 4                                                  | 6                                                  | 0.667                                              | 1                                                  | 1                                                  | 0                                                  | 7                                                  | 71539                                              |\n",
       "| https://bj.lianjia.com/chengjiao/101086041636.html | 101086041636                                       | 116.5620                                           | 39.87714                                           | 1.111041e+12                                       | 2016-12-11                                         | 1271                                               |  48                                                | 1030.0                                             | 52021                                              | ...                                                | 4                                                  | 2005                                               | 3                                                  | 6                                                  | 0.500                                              | 1                                                  | 0                                                  | 0                                                  | 7                                                  | 48160                                              |\n",
       "| https://bj.lianjia.com/chengjiao/101086406841.html | 101086406841                                       | 116.4380                                           | 40.07611                                           | 1.111043e+12                                       | 2016-09-30                                         |  965                                               | 138                                                |  297.5                                             | 22202                                              | ...                                                | 1                                                  | 2008                                               | 1                                                  | 6                                                  | 0.273                                              | 1                                                  | 0                                                  | 0                                                  | 6                                                  | 51238                                              |\n",
       "| https://bj.lianjia.com/chengjiao/101086920653.html | 101086920653                                       | 116.4284                                           | 39.88623                                           | 1.111027e+12                                       | 2016-08-28                                         |  927                                               | 286                                                |  392.0                                             | 48396                                              | ...                                                | 4                                                  | 1960                                               | 2                                                  | 2                                                  | 0.333                                              | 0                                                  | 1                                                  | 1                                                  | 1                                                  | 62588                                              |\n",
       "| https://bj.lianjia.com/chengjiao/101087277815.html | 101087277815                                       | 116.4663                                           | 39.99136                                           | 1.111027e+12                                       | 2016-07-22                                         |  861                                               |  57                                                |  275.6                                             | 52000                                              | ...                                                | 4                                                  | 2005                                               | 3                                                  | 6                                                  | 0.333                                              | 1                                                  | 1                                                  | 0                                                  | 7                                                  | 67738                                              |\n",
       "\n"
      ],
      "text/plain": [
       "  url                                                id           Lng     \n",
       "1 https://bj.lianjia.com/chengjiao/101084782030.html 101084782030 116.4755\n",
       "2 https://bj.lianjia.com/chengjiao/101086012217.html 101086012217 116.4539\n",
       "3 https://bj.lianjia.com/chengjiao/101086041636.html 101086041636 116.5620\n",
       "4 https://bj.lianjia.com/chengjiao/101086406841.html 101086406841 116.4380\n",
       "5 https://bj.lianjia.com/chengjiao/101086920653.html 101086920653 116.4284\n",
       "6 https://bj.lianjia.com/chengjiao/101087277815.html 101087277815 116.4663\n",
       "  Lat      Cid          tradeTime  DOM  followers totalPrice price ...\n",
       "1 40.01952 1.111027e+12 2016-08-09 1464 106        415.0     31680 ...\n",
       "2 39.88153 1.111027e+12 2016-07-28  903 126        575.0     43436 ...\n",
       "3 39.87714 1.111041e+12 2016-12-11 1271  48       1030.0     52021 ...\n",
       "4 40.07611 1.111043e+12 2016-09-30  965 138        297.5     22202 ...\n",
       "5 39.88623 1.111027e+12 2016-08-28  927 286        392.0     48396 ...\n",
       "6 39.99136 1.111027e+12 2016-07-22  861  57        275.6     52000 ...\n",
       "  buildingType constructionTime renovationCondition buildingStructure\n",
       "1 1            2005             3                   6                \n",
       "2 1            2004             4                   6                \n",
       "3 4            2005             3                   6                \n",
       "4 1            2008             1                   6                \n",
       "5 4            1960             2                   2                \n",
       "6 4            2005             3                   6                \n",
       "  ladderRatio elevator fiveYearsProperty subway district communityAverage\n",
       "1 0.217       1        0                 1      7        56021           \n",
       "2 0.667       1        1                 0      7        71539           \n",
       "3 0.500       1        0                 0      7        48160           \n",
       "4 0.273       1        0                 0      6        51238           \n",
       "5 0.333       0        1                 1      1        62588           \n",
       "6 0.333       1        1                 0      7        67738           "
      ]
     },
     "metadata": {},
     "output_type": "display_data"
    }
   ],
   "source": [
    "head(data)"
   ]
  },
  {
   "cell_type": "code",
   "execution_count": 13,
   "metadata": {},
   "outputs": [
    {
     "data": {
      "text/html": [
       "<ol class=list-inline>\n",
       "\t<li>'url'</li>\n",
       "\t<li>'id'</li>\n",
       "\t<li>'Lng'</li>\n",
       "\t<li>'Lat'</li>\n",
       "\t<li>'Cid'</li>\n",
       "\t<li>'tradeTime'</li>\n",
       "\t<li>'DOM'</li>\n",
       "\t<li>'followers'</li>\n",
       "\t<li>'totalPrice'</li>\n",
       "\t<li>'price'</li>\n",
       "\t<li>'square'</li>\n",
       "\t<li>'livingRoom'</li>\n",
       "\t<li>'drawingRoom'</li>\n",
       "\t<li>'kitchen'</li>\n",
       "\t<li>'bathRoom'</li>\n",
       "\t<li>'floor'</li>\n",
       "\t<li>'buildingType'</li>\n",
       "\t<li>'constructionTime'</li>\n",
       "\t<li>'renovationCondition'</li>\n",
       "\t<li>'buildingStructure'</li>\n",
       "\t<li>'ladderRatio'</li>\n",
       "\t<li>'elevator'</li>\n",
       "\t<li>'fiveYearsProperty'</li>\n",
       "\t<li>'subway'</li>\n",
       "\t<li>'district'</li>\n",
       "\t<li>'communityAverage'</li>\n",
       "</ol>\n"
      ],
      "text/latex": [
       "\\begin{enumerate*}\n",
       "\\item 'url'\n",
       "\\item 'id'\n",
       "\\item 'Lng'\n",
       "\\item 'Lat'\n",
       "\\item 'Cid'\n",
       "\\item 'tradeTime'\n",
       "\\item 'DOM'\n",
       "\\item 'followers'\n",
       "\\item 'totalPrice'\n",
       "\\item 'price'\n",
       "\\item 'square'\n",
       "\\item 'livingRoom'\n",
       "\\item 'drawingRoom'\n",
       "\\item 'kitchen'\n",
       "\\item 'bathRoom'\n",
       "\\item 'floor'\n",
       "\\item 'buildingType'\n",
       "\\item 'constructionTime'\n",
       "\\item 'renovationCondition'\n",
       "\\item 'buildingStructure'\n",
       "\\item 'ladderRatio'\n",
       "\\item 'elevator'\n",
       "\\item 'fiveYearsProperty'\n",
       "\\item 'subway'\n",
       "\\item 'district'\n",
       "\\item 'communityAverage'\n",
       "\\end{enumerate*}\n"
      ],
      "text/markdown": [
       "1. 'url'\n",
       "2. 'id'\n",
       "3. 'Lng'\n",
       "4. 'Lat'\n",
       "5. 'Cid'\n",
       "6. 'tradeTime'\n",
       "7. 'DOM'\n",
       "8. 'followers'\n",
       "9. 'totalPrice'\n",
       "10. 'price'\n",
       "11. 'square'\n",
       "12. 'livingRoom'\n",
       "13. 'drawingRoom'\n",
       "14. 'kitchen'\n",
       "15. 'bathRoom'\n",
       "16. 'floor'\n",
       "17. 'buildingType'\n",
       "18. 'constructionTime'\n",
       "19. 'renovationCondition'\n",
       "20. 'buildingStructure'\n",
       "21. 'ladderRatio'\n",
       "22. 'elevator'\n",
       "23. 'fiveYearsProperty'\n",
       "24. 'subway'\n",
       "25. 'district'\n",
       "26. 'communityAverage'\n",
       "\n",
       "\n"
      ],
      "text/plain": [
       " [1] \"url\"                 \"id\"                  \"Lng\"                \n",
       " [4] \"Lat\"                 \"Cid\"                 \"tradeTime\"          \n",
       " [7] \"DOM\"                 \"followers\"           \"totalPrice\"         \n",
       "[10] \"price\"               \"square\"              \"livingRoom\"         \n",
       "[13] \"drawingRoom\"         \"kitchen\"             \"bathRoom\"           \n",
       "[16] \"floor\"               \"buildingType\"        \"constructionTime\"   \n",
       "[19] \"renovationCondition\" \"buildingStructure\"   \"ladderRatio\"        \n",
       "[22] \"elevator\"            \"fiveYearsProperty\"   \"subway\"             \n",
       "[25] \"district\"            \"communityAverage\"   "
      ]
     },
     "metadata": {},
     "output_type": "display_data"
    }
   ],
   "source": [
    "names(data)"
   ]
  },
  {
   "cell_type": "code",
   "execution_count": 16,
   "metadata": {},
   "outputs": [
    {
     "data": {
      "text/html": [
       "13"
      ],
      "text/latex": [
       "13"
      ],
      "text/markdown": [
       "13"
      ],
      "text/plain": [
       "[1] 13"
      ]
     },
     "metadata": {},
     "output_type": "display_data"
    }
   ],
   "source": [
    "length(unique(data$district))"
   ]
  },
  {
   "cell_type": "code",
   "execution_count": 22,
   "metadata": {},
   "outputs": [
    {
     "data": {
      "image/png": "[encoded data removed]",
      "text/plain": [
       "plot without title"
      ]
     },
     "metadata": {},
     "output_type": "display_data"
    }
   ],
   "source": [
    "ggplot(data, \n",
    "       aes(y = price, x = factor(district), fill = factor(district))\n",
    "      ) + geom_bar(stat = \"identity\") "
   ]
  },
  {
   "cell_type": "code",
   "execution_count": null,
   "metadata": {},
   "outputs": [],
   "source": []
  }
 ],
 "metadata": {
  "kernelspec": {
   "display_name": "R",
   "language": "R",
   "name": "ir"
  },
  "language_info": {
   "codemirror_mode": "r",
   "file_extension": ".r",
   "mimetype": "text/x-r-source",
   "name": "R",
   "pygments_lexer": "r",
   "version": "3.6.1"
  }
 },
 "nbformat": 4,
 "nbformat_minor": 4
}
