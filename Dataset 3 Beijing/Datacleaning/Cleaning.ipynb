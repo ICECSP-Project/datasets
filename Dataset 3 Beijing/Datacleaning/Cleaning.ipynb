{
 "cells": [
  {
   "cell_type": "markdown",
   "metadata": {},
   "source": [
    "Done By  \n",
    "#### Jashith V.P,  ID : CUTM01124\n",
    "www.linkedin.com/in/jashith-v-p\n",
    "\n",
    "-----------------------------------------"
   ]
  },
  {
   "cell_type": "markdown",
   "metadata": {},
   "source": [
    "# Data Cleaninig"
   ]
  },
  {
   "cell_type": "markdown",
   "metadata": {},
   "source": [
    "Data cleaning is the process of preparing data for analysis by removing or modifying data that is incorrect, incomplete, irrelevant, duplicated, or improperly formatted.This data is usually not necessary or helpful when it comes to analyzing data because it may hinder the process or provide inaccurate results. Let us look through the data for inconsistencies and clean it."
   ]
  },
  {
   "cell_type": "markdown",
   "metadata": {},
   "source": [
    "#### About the dataset?\n",
    "\n",
    "\n",
    "The dataset is of  Beijing from 2011 to 2017, fetching from Lianjia.com. It includes URL, ID, Lng, Lat, CommunityID, TradeTime, DOM(days on market), Followers, Total price, Price, Square, Living Room, number of Drawing room, Kitchen and Bathroom, Building Type, Construction time. renovation condition, building structure, Ladder ratio( which is the proportion between number of residents on the same floor and number of elevator of ladder. It describes how many ladders a resident have on average), elevator, Property rights for five years（It's related to China restricted purchase of houses policy), Subway, District, Community average price.\n",
    "\n",
    "\n",
    "Most data is traded in 2011-2017, some of them is traded in Jan,2018, and some is even earlier(2010,2009)\n",
    "\n",
    "All the data was fetching from https://bj.lianjia.com/chengjiao."
   ]
  },
  {
   "cell_type": "code",
   "execution_count": 3,
   "metadata": {},
   "outputs": [],
   "source": [
    "library(ggplot2)\n",
    "library(reshape2)\n",
    "library(tidyverse)\n",
    "library(lubridate)\n",
    "library(dplyr)"
   ]
  },
  {
   "cell_type": "markdown",
   "metadata": {},
   "source": [
    "Due to the fact that the original csv file includes Chinese characters in the \" Floor \" column, reading it using UTF-8 but that doesn’t help, however we can see that the floor number always comes after the space in the UTF encoding. so it’s a simple question of extracting the character that comes after the space."
   ]
  },
  {
   "cell_type": "code",
   "execution_count": 5,
   "metadata": {},
   "outputs": [
    {
     "name": "stderr",
     "output_type": "stream",
     "text": [
      "Parsed with column specification:\n",
      "cols(\n",
      "  .default = col_double(),\n",
      "  url = col_character(),\n",
      "  tradeTime = col_date(format = \"\"),\n",
      "  floor = col_character(),\n",
      "  constructionTime = col_character()\n",
      ")\n",
      "See spec(...) for full column specifications.\n",
      "Warning message:\n",
      "\"226701 parsing failures.\n",
      "  row col expected       actual             file\n",
      "92217  id a double BJ0000614981 '../beijing.csv'\n",
      "92218  id a double BJ0000614985 '../beijing.csv'\n",
      "92219  id a double BJ0000614991 '../beijing.csv'\n",
      "92220  id a double BJ0000614992 '../beijing.csv'\n",
      "92221  id a double BJ0000614999 '../beijing.csv'\n",
      "..... ... ........ ............ ................\n",
      "See problems(...) for more details.\n",
      "\""
     ]
    }
   ],
   "source": [
    "data <- read_csv(\"../beijing.csv\", locale = locale(encoding = \"UTF-8\")) %>% \n",
    "              mutate(floor = str_trim(str_extract(floor,\"( .*)\"), side = \"both\"))"
   ]
  },
  {
   "cell_type": "code",
   "execution_count": 6,
   "metadata": {},
   "outputs": [
    {
     "data": {
      "text/html": [
       "<ol class=list-inline>\n",
       "\t<li>318851</li>\n",
       "\t<li>26</li>\n",
       "</ol>\n"
      ],
      "text/latex": [
       "\\begin{enumerate*}\n",
       "\\item 318851\n",
       "\\item 26\n",
       "\\end{enumerate*}\n"
      ],
      "text/markdown": [
       "1. 318851\n",
       "2. 26\n",
       "\n",
       "\n"
      ],
      "text/plain": [
       "[1] 318851     26"
      ]
     },
     "metadata": {},
     "output_type": "display_data"
    }
   ],
   "source": [
    "dim(data)"
   ]
  },
  {
   "cell_type": "code",
   "execution_count": 7,
   "metadata": {},
   "outputs": [
    {
     "name": "stdout",
     "output_type": "stream",
     "text": [
      "Classes 'spec_tbl_df', 'tbl_df', 'tbl' and 'data.frame':\t318851 obs. of  26 variables:\n",
      " $ url                : chr  \"https://bj.lianjia.com/chengjiao/101084782030.html\" \"https://bj.lianjia.com/chengjiao/101086012217.html\" \"https://bj.lianjia.com/chengjiao/101086041636.html\" \"https://bj.lianjia.com/chengjiao/101086406841.html\" ...\n",
      " $ id                 : num  1.01e+11 1.01e+11 1.01e+11 1.01e+11 1.01e+11 ...\n",
      " $ Lng                : num  116 116 117 116 116 ...\n",
      " $ Lat                : num  40 39.9 39.9 40.1 39.9 ...\n",
      " $ Cid                : num  1.11e+12 1.11e+12 1.11e+12 1.11e+12 1.11e+12 ...\n",
      " $ tradeTime          : Date, format: \"2016-08-09\" \"2016-07-28\" ...\n",
      " $ DOM                : num  1464 903 1271 965 927 ...\n",
      " $ followers          : num  106 126 48 138 286 57 167 138 218 134 ...\n",
      " $ totalPrice         : num  415 575 1030 298 392 ...\n",
      " $ price              : num  31680 43436 52021 22202 48396 ...\n",
      " $ square             : num  131 132 198 134 81 ...\n",
      " $ livingRoom         : num  2 2 3 3 2 1 2 3 1 1 ...\n",
      " $ drawingRoom        : num  1 2 2 1 1 0 1 2 0 0 ...\n",
      " $ kitchen            : num  1 1 1 1 1 1 1 1 1 0 ...\n",
      " $ bathRoom           : num  1 2 3 1 1 1 1 2 1 0 ...\n",
      " $ floor              : chr  \"26\" \"22\" \"4\" \"21\" ...\n",
      " $ buildingType       : num  1 1 4 1 4 4 4 1 3 1 ...\n",
      " $ constructionTime   : chr  \"2005\" \"2004\" \"2005\" \"2008\" ...\n",
      " $ renovationCondition: num  3 4 3 1 2 3 4 4 1 4 ...\n",
      " $ buildingStructure  : num  6 6 6 6 2 6 2 6 2 6 ...\n",
      " $ ladderRatio        : num  0.217 0.667 0.5 0.273 0.333 0.333 0.5 0.667 0.333 0.308 ...\n",
      " $ elevator           : num  1 1 1 1 0 1 0 1 0 1 ...\n",
      " $ fiveYearsProperty  : num  0 1 0 0 1 1 0 1 0 1 ...\n",
      " $ subway             : num  1 0 0 0 1 0 0 0 0 1 ...\n",
      " $ district           : num  7 7 7 6 1 7 7 7 13 1 ...\n",
      " $ communityAverage   : num  56021 71539 48160 51238 62588 ...\n"
     ]
    }
   ],
   "source": [
    "str(data)"
   ]
  },
  {
   "cell_type": "markdown",
   "metadata": {},
   "source": [
    "* url: the url which fetches the data  \n",
    "* id: the id of transaction  \n",
    "* Lng: and Lat coordinates, using the BD09 protocol.\n",
    "* Cid: community id\n",
    "* tradeTime: the time of transaction\n",
    "* DOM: active days on market.\n",
    "* followers: the number of people follow the transaction.\n",
    "* totalPrice: the total price\n",
    "* price: the average price by square\n",
    "* square: the square of house\n",
    "* livingRoom: the number of living room\n",
    "* drawingRoom: the number of drawing room\n",
    "* kitchen: the number of kitchen\n",
    "* bathroom the number of bathroom\n",
    "* floor: the height of the house. I will turn the Chinese characters to English in the next version.\n",
    "* buildingType: including tower( 1 ) , bungalow( 2 )，combination of plate and tower( 3 ), plate( 4 ).\n",
    "* constructionTime: the time of construction\n",
    "* renovationCondition: including other( 1 ), rough( 2 ),Simplicity( 3 ), hardcover( 4 )\n",
    "* buildingStructure: including unknow( 1 ), mixed( 2 ), brick and wood( 3 ), brick and concrete( 4 ),steel( 5 ) and steel-concrete composite ( 6 ).\n",
    "* ladderRatio: the proportion between number of residents on the same floor and number of elevator of ladder. It describes how many ladders a resident have on average.\n",
    "* elevator: have ( 1 ) or not have elevator( 0 )\n",
    "* fiveYearsProperty: if the owner have the property for less than 5 years,\n",
    "\n",
    "Dropping variable that has nothing to do with the analysis"
   ]
  },
  {
   "cell_type": "code",
   "execution_count": 8,
   "metadata": {},
   "outputs": [],
   "source": [
    "data <-  select(data,-id,-url)"
   ]
  },
  {
   "cell_type": "markdown",
   "metadata": {},
   "source": [
    "Finding the number of unique value for each attribute"
   ]
  },
  {
   "cell_type": "code",
   "execution_count": 9,
   "metadata": {},
   "outputs": [
    {
     "data": {
      "text/html": [
       "<dl class=dl-horizontal>\n",
       "\t<dt>Lng</dt>\n",
       "\t\t<dd>3995</dd>\n",
       "\t<dt>Lat</dt>\n",
       "\t\t<dd>3993</dd>\n",
       "\t<dt>Cid</dt>\n",
       "\t\t<dd>4035</dd>\n",
       "\t<dt>tradeTime</dt>\n",
       "\t\t<dd>2560</dd>\n",
       "\t<dt>DOM</dt>\n",
       "\t\t<dd>552</dd>\n",
       "\t<dt>followers</dt>\n",
       "\t\t<dd>547</dd>\n",
       "\t<dt>totalPrice</dt>\n",
       "\t\t<dd>5780</dd>\n",
       "\t<dt>price</dt>\n",
       "\t\t<dd>80042</dd>\n",
       "\t<dt>square</dt>\n",
       "\t\t<dd>18298</dd>\n",
       "\t<dt>livingRoom</dt>\n",
       "\t\t<dd>11</dd>\n",
       "\t<dt>drawingRoom</dt>\n",
       "\t\t<dd>7</dd>\n",
       "\t<dt>kitchen</dt>\n",
       "\t\t<dd>5</dd>\n",
       "\t<dt>bathRoom</dt>\n",
       "\t\t<dd>18</dd>\n",
       "\t<dt>floor</dt>\n",
       "\t\t<dd>41</dd>\n",
       "\t<dt>buildingType</dt>\n",
       "\t\t<dd>13</dd>\n",
       "\t<dt>constructionTime</dt>\n",
       "\t\t<dd>74</dd>\n",
       "\t<dt>renovationCondition</dt>\n",
       "\t\t<dd>5</dd>\n",
       "\t<dt>buildingStructure</dt>\n",
       "\t\t<dd>7</dd>\n",
       "\t<dt>ladderRatio</dt>\n",
       "\t\t<dd>183</dd>\n",
       "\t<dt>elevator</dt>\n",
       "\t\t<dd>3</dd>\n",
       "\t<dt>fiveYearsProperty</dt>\n",
       "\t\t<dd>3</dd>\n",
       "\t<dt>subway</dt>\n",
       "\t\t<dd>3</dd>\n",
       "\t<dt>district</dt>\n",
       "\t\t<dd>13</dd>\n",
       "\t<dt>communityAverage</dt>\n",
       "\t\t<dd>4073</dd>\n",
       "</dl>\n"
      ],
      "text/latex": [
       "\\begin{description*}\n",
       "\\item[Lng] 3995\n",
       "\\item[Lat] 3993\n",
       "\\item[Cid] 4035\n",
       "\\item[tradeTime] 2560\n",
       "\\item[DOM] 552\n",
       "\\item[followers] 547\n",
       "\\item[totalPrice] 5780\n",
       "\\item[price] 80042\n",
       "\\item[square] 18298\n",
       "\\item[livingRoom] 11\n",
       "\\item[drawingRoom] 7\n",
       "\\item[kitchen] 5\n",
       "\\item[bathRoom] 18\n",
       "\\item[floor] 41\n",
       "\\item[buildingType] 13\n",
       "\\item[constructionTime] 74\n",
       "\\item[renovationCondition] 5\n",
       "\\item[buildingStructure] 7\n",
       "\\item[ladderRatio] 183\n",
       "\\item[elevator] 3\n",
       "\\item[fiveYearsProperty] 3\n",
       "\\item[subway] 3\n",
       "\\item[district] 13\n",
       "\\item[communityAverage] 4073\n",
       "\\end{description*}\n"
      ],
      "text/markdown": [
       "Lng\n",
       ":   3995Lat\n",
       ":   3993Cid\n",
       ":   4035tradeTime\n",
       ":   2560DOM\n",
       ":   552followers\n",
       ":   547totalPrice\n",
       ":   5780price\n",
       ":   80042square\n",
       ":   18298livingRoom\n",
       ":   11drawingRoom\n",
       ":   7kitchen\n",
       ":   5bathRoom\n",
       ":   18floor\n",
       ":   41buildingType\n",
       ":   13constructionTime\n",
       ":   74renovationCondition\n",
       ":   5buildingStructure\n",
       ":   7ladderRatio\n",
       ":   183elevator\n",
       ":   3fiveYearsProperty\n",
       ":   3subway\n",
       ":   3district\n",
       ":   13communityAverage\n",
       ":   4073\n",
       "\n"
      ],
      "text/plain": [
       "                Lng                 Lat                 Cid           tradeTime \n",
       "               3995                3993                4035                2560 \n",
       "                DOM           followers          totalPrice               price \n",
       "                552                 547                5780               80042 \n",
       "             square          livingRoom         drawingRoom             kitchen \n",
       "              18298                  11                   7                   5 \n",
       "           bathRoom               floor        buildingType    constructionTime \n",
       "                 18                  41                  13                  74 \n",
       "renovationCondition   buildingStructure         ladderRatio            elevator \n",
       "                  5                   7                 183                   3 \n",
       "  fiveYearsProperty              subway            district    communityAverage \n",
       "                  3                   3                  13                4073 "
      ]
     },
     "metadata": {},
     "output_type": "display_data"
    }
   ],
   "source": [
    "sapply(data, function(x){length(unique(factor(x)))})"
   ]
  },
  {
   "cell_type": "markdown",
   "metadata": {},
   "source": [
    "converting the variable type"
   ]
  },
  {
   "cell_type": "code",
   "execution_count": 10,
   "metadata": {},
   "outputs": [
    {
     "name": "stderr",
     "output_type": "stream",
     "text": [
      "Warning message in eval(expr, envir, enclos):\n",
      "\"NAs introduced by coercion\""
     ]
    }
   ],
   "source": [
    "cols <- c(\"Cid\", \"livingRoom\",\"kitchen\",\"bathRoom\",\"floor\",\n",
    "          \"buildingType\",\"renovationCondition\",\"buildingStructure\",\n",
    "          \"elevator\",\"fiveYearsProperty\",\"subway\",\"district\",\"drawingRoom\")\n",
    "\n",
    "data[cols] <- lapply(data[cols], factor) \n",
    "data$constructionTime <- as.numeric(data$constructionTime)"
   ]
  },
  {
   "cell_type": "markdown",
   "metadata": {},
   "source": [
    "Getting the summary of all the attributes"
   ]
  },
  {
   "cell_type": "code",
   "execution_count": 11,
   "metadata": {},
   "outputs": [
    {
     "data": {
      "text/plain": [
       "      Lng             Lat                   Cid           tradeTime         \n",
       " Min.   :116.1   Min.   :39.63   1111027378998:  1526   Min.   :2002-06-01  \n",
       " 1st Qu.:116.3   1st Qu.:39.89   1111027375945:  1514   1st Qu.:2013-11-30  \n",
       " Median :116.4   Median :39.93   1111027380051:  1350   Median :2015-09-12  \n",
       " Mean   :116.4   Mean   :39.95   1111027381003:  1334   Mean   :2015-04-17  \n",
       " 3rd Qu.:116.5   3rd Qu.:40.00   1111027382209:  1247   3rd Qu.:2016-07-31  \n",
       " Max.   :116.7   Max.   :40.25   1111027379657:  1174   Max.   :2018-01-28  \n",
       "                                 (Other)      :310706                       \n",
       "      DOM            followers         totalPrice          price       \n",
       " Min.   :   1.00   Min.   :   0.00   Min.   :    0.1   Min.   :     1  \n",
       " 1st Qu.:   1.00   1st Qu.:   0.00   1st Qu.:  205.0   1st Qu.: 28050  \n",
       " Median :   6.00   Median :   5.00   Median :  294.0   Median : 38737  \n",
       " Mean   :  28.82   Mean   :  16.73   Mean   :  349.0   Mean   : 43530  \n",
       " 3rd Qu.:  37.00   3rd Qu.:  18.00   3rd Qu.:  425.5   3rd Qu.: 53820  \n",
       " Max.   :1677.00   Max.   :1143.00   Max.   :18130.0   Max.   :156250  \n",
       " NA's   :157977                                                        \n",
       "     square          livingRoom     drawingRoom   kitchen       bathRoom     \n",
       " Min.   :   6.90   2      :160589   0   : 19686   0:  2680   1      :261488  \n",
       " 1st Qu.:  57.90   1      : 82386   1   :225659   1:315290   2      : 52606  \n",
       " Median :  74.26   3      : 67611   2   : 72502   2:   828   3      :  3240  \n",
       " Mean   :  83.24   4      :  6821   3   :   918   3:    29   0      :   915  \n",
       " 3rd Qu.:  98.71   5      :  1107   4   :    47   4:    24   4      :   489  \n",
       " Max.   :1745.50   (Other):   305   5   :     7              (Other):   111  \n",
       "                   NA's   :    32   NA's:    32              NA's   :     2  \n",
       "     floor         buildingType    constructionTime renovationCondition\n",
       " 6      :107791   4      :172405   Min.   :   0     0:    26           \n",
       " 18     : 23013   1      : 84541   1st Qu.:1994     1:118746           \n",
       " 16     : 15999   3      : 59715   Median :2001     2:  5390           \n",
       " 24     : 13594   NaN    :  2021   Mean   :1999     3: 77251           \n",
       " 5      : 13467   2      :   137   3rd Qu.:2006     4:117438           \n",
       " (Other):144955   0.5    :    15   Max.   :2016                        \n",
       " NA's   :    32   (Other):    17   NA's   :19283                       \n",
       " buildingStructure  ladderRatio       elevator      fiveYearsProperty\n",
       " 0:    28          Min.   :       0   0   :134843   0   :112989      \n",
       " 1:   196          1st Qu.:       0   1   :183976   1   :205830      \n",
       " 2:115779          Median :       0   NA's:    32   NA's:    32      \n",
       " 3:   253          Mean   :      63                                  \n",
       " 4: 14341          3rd Qu.:       0                                  \n",
       " 5:   187          Max.   :10009400                                  \n",
       " 6:188067                                                            \n",
       "  subway          district      communityAverage\n",
       " 0   :127173   7      :107244   Min.   : 10847  \n",
       " 1   :191646   6      : 38634   1st Qu.: 46339  \n",
       " NA's:    32   8      : 38200   Median : 59015  \n",
       "               10     : 31293   Mean   : 63682  \n",
       "               2      : 29338   3rd Qu.: 75950  \n",
       "               1      : 17086   Max.   :183109  \n",
       "               (Other): 57056   NA's   :463     "
      ]
     },
     "metadata": {},
     "output_type": "display_data"
    }
   ],
   "source": [
    "summary(data)"
   ]
  },
  {
   "cell_type": "markdown",
   "metadata": {},
   "source": [
    "There are missing values in some of the attribute which has to be removed. Lets check what percentage of the data is missing. so that we can decide whether to remove those value or impute the values\n"
   ]
  },
  {
   "cell_type": "code",
   "execution_count": 12,
   "metadata": {},
   "outputs": [
    {
     "name": "stdout",
     "output_type": "stream",
     "text": [
      "   missing_vals percent_missing\n",
      "1        157977          49.55%\n",
      "2         19283           6.05%\n",
      "3           463           0.15%\n",
      "4            32           0.01%\n",
      "5            32           0.01%\n",
      "6            32           0.01%\n",
      "7            32           0.01%\n",
      "8            32           0.01%\n",
      "9            32           0.01%\n",
      "10            2              0%\n",
      "11            0              0%\n",
      "12            0              0%\n",
      "13            0              0%\n",
      "14            0              0%\n",
      "15            0              0%\n",
      "16            0              0%\n",
      "17            0              0%\n",
      "18            0              0%\n",
      "19            0              0%\n",
      "20            0              0%\n",
      "21            0              0%\n",
      "22            0              0%\n",
      "23            0              0%\n",
      "24            0              0%\n"
     ]
    }
   ],
   "source": [
    "missing_vals <- sapply(data, function(x){sum(is.na(x))})\n",
    "per_missing <- data.frame(missing_vals,percent_missing = paste0(round((missing_vals/nrow(data))*100,2),'%'))%>% arrange(desc(missing_vals))\n",
    "print(per_missing)"
   ]
  },
  {
   "cell_type": "markdown",
   "metadata": {},
   "source": [
    "The graphical reprecentation of the missing value"
   ]
  },
  {
   "cell_type": "code",
   "execution_count": 13,
   "metadata": {},
   "outputs": [
    {
     "data": {
      "image/png": "[encoded data removed]",
      "text/plain": [
       "plot without title"
      ]
     },
     "metadata": {},
     "output_type": "display_data"
    }
   ],
   "source": [
    "x1 <- map_df(data, function(x){sum(is.na(x))})\n",
    "missing <- x1 %>% gather(key = \"Variable\") %>% filter(value > 0) %>% mutate(value = value/nrow(data))\n",
    "ggplot(missing, aes(x = reorder(Variable, -value),y = value)) + \n",
    "  geom_bar(stat = \"identity\", fill = \"salmon\")+\n",
    "  coord_flip()"
   ]
  },
  {
   "cell_type": "markdown",
   "metadata": {},
   "source": [
    "This suggest that only DOM has significant amount of missing value and only DOM needs to be imputed and rest all the NA's can be removed.  \n",
    "\n",
    "Removing missing values except for DOM"
   ]
  },
  {
   "cell_type": "code",
   "execution_count": 14,
   "metadata": {},
   "outputs": [],
   "source": [
    "completeFun <- function(df, desiredCols) {\n",
    "  completeVec <- complete.cases(df[, desiredCols])\n",
    "  return(df[completeVec, ])\n",
    "}\n",
    "\n",
    "data <- completeFun(data, c(\"bathRoom\",\"subway\",\"livingRoom\",\"floor\",\"fiveYearsProperty\",\n",
    "                            \"elevator\",\"drawingRoom\",\"communityAverage\",\"constructionTime\"))"
   ]
  },
  {
   "cell_type": "markdown",
   "metadata": {},
   "source": [
    "describing DOM"
   ]
  },
  {
   "cell_type": "code",
   "execution_count": 15,
   "metadata": {},
   "outputs": [
    {
     "name": "stdout",
     "output_type": "stream",
     "text": [
      "   vars      n  mean   sd median trimmed mad min  max range skew kurtosis   se\n",
      "X1    1 153260 29.54 50.6      7   18.28 8.9   1 1677  1676 4.25    43.83 0.13\n"
     ]
    }
   ],
   "source": [
    "des <- psych::describe(data$DOM)\n",
    "print(des)"
   ]
  },
  {
   "cell_type": "markdown",
   "metadata": {},
   "source": [
    "The Na DOM could mean that the house may be sold in 0 days,  since the beijing \n",
    "very fast-paced with 50% of the offers staying under 6 days on the portal!. Checking if thats the case"
   ]
  },
  {
   "cell_type": "code",
   "execution_count": 16,
   "metadata": {},
   "outputs": [
    {
     "data": {
      "image/png": "[encoded data removed]",
      "text/plain": [
       "plot without title"
      ]
     },
     "metadata": {},
     "output_type": "display_data"
    }
   ],
   "source": [
    "data2 <-data[,c(\"tradeTime\",\"price\",\"DOM\")]\n",
    "data2$Missing <- is.na(data2$DOM)\n",
    "data2 <- data2 %>%\n",
    "  group_by( year = year(tradeTime),Missing) %>%\n",
    "  summarise(price = mean(price))\n",
    "\n",
    "\n",
    "\n",
    "ggplot(data = data2, aes(x = year, y = price))+\n",
    "  geom_line(aes(color = Missing), size = 1)"
   ]
  },
  {
   "cell_type": "markdown",
   "metadata": {},
   "source": [
    "This proves the missing values in DOM are missing and not houses sold in 0 days. Lets check the qurtile plot for DOM "
   ]
  },
  {
   "cell_type": "code",
   "execution_count": 17,
   "metadata": {},
   "outputs": [
    {
     "data": {
      "image/png": "[encoded data removed]",
      "text/plain": [
       "Plot with title \"Normal Q-Q Plot\""
      ]
     },
     "metadata": {},
     "output_type": "display_data"
    }
   ],
   "source": [
    "qqnorm(data$DOM)\n",
    "qqline(data$DOM)"
   ]
  },
  {
   "cell_type": "markdown",
   "metadata": {},
   "source": [
    "We are going to use the median to impute the data, because the data is positively skewed"
   ]
  },
  {
   "cell_type": "code",
   "execution_count": 18,
   "metadata": {},
   "outputs": [
    {
     "name": "stdout",
     "output_type": "stream",
     "text": [
      "                Lng                 Lat                 Cid           tradeTime \n",
      "                  0                   0                   0                   0 \n",
      "                DOM           followers          totalPrice               price \n",
      "                  0                   0                   0                   0 \n",
      "             square          livingRoom         drawingRoom             kitchen \n",
      "                  0                   0                   0                   0 \n",
      "           bathRoom               floor        buildingType    constructionTime \n",
      "                  0                   0                   0                   0 \n",
      "renovationCondition   buildingStructure         ladderRatio            elevator \n",
      "                  0                   0                   0                   0 \n",
      "  fiveYearsProperty              subway            district    communityAverage \n",
      "                  0                   0                   0                   0 \n"
     ]
    }
   ],
   "source": [
    "data$DOM<- ifelse(is.na(data$DOM),median(data$DOM,na.rm=TRUE),data$DOM)\n",
    "missing_vals <- sapply(data, function(x){sum(is.na(x))})\n",
    "print(missing_vals)"
   ]
  },
  {
   "cell_type": "markdown",
   "metadata": {},
   "source": [
    "#### Cleaning factor variable"
   ]
  },
  {
   "cell_type": "code",
   "execution_count": 20,
   "metadata": {},
   "outputs": [
    {
     "data": {
      "text/plain": [
       "\n",
       "      Tower    Bungalow Plate/Tower       Plate \n",
       "      78053          44       54832      164772 "
      ]
     },
     "metadata": {},
     "output_type": "display_data"
    }
   ],
   "source": [
    "table(data$buildingType)\n",
    "# \"NaN\" values are removed since it's a very low portion on the data\n",
    "data <- data[!data$buildingType == \"NaN\",]\n",
    "data$buildingType <- droplevels(data$buildingType)\n",
    "data$buildingType <- factor(data$buildingType,labels = c(\"Tower\",\"Bungalow\",\"Plate/Tower\",\"Plate\"))"
   ]
  },
  {
   "cell_type": "code",
   "execution_count": null,
   "metadata": {},
   "outputs": [],
   "source": [
    "table(data$buildingType)"
   ]
  },
  {
   "cell_type": "code",
   "execution_count": 22,
   "metadata": {},
   "outputs": [
    {
     "data": {
      "text/plain": [
       "\n",
       "    Other     Rough Simplicit Hardcover \n",
       "   109466      4893     73733    109609 "
      ]
     },
     "metadata": {},
     "output_type": "display_data"
    }
   ],
   "source": [
    "table(data$renovationCondition)\n",
    "data$renovationCondition <- droplevels(data$renovationCondition)\n",
    "data$renovationCondition <- factor(data$renovationCondition,labels = c(\"Other\",\"Rough\",\"Simplicit\",\"Hardcover\"))"
   ]
  },
  {
   "cell_type": "code",
   "execution_count": 23,
   "metadata": {},
   "outputs": [
    {
     "data": {
      "text/plain": [
       "\n",
       "    Other     Rough Simplicit Hardcover \n",
       "   109466      4893     73733    109609 "
      ]
     },
     "metadata": {},
     "output_type": "display_data"
    }
   ],
   "source": [
    "table(data$renovationCondition)"
   ]
  },
  {
   "cell_type": "code",
   "execution_count": 24,
   "metadata": {},
   "outputs": [
    {
     "data": {
      "text/plain": [
       "\n",
       "     0      1      2      3      4      5      6 \n",
       "     0     16 110651     61  13473    154 173346 "
      ]
     },
     "metadata": {},
     "output_type": "display_data"
    }
   ],
   "source": [
    "table(data$buildingStructure)\n",
    "data$buildingStructure <- droplevels(data$buildingStructure)\n",
    "data$buildingStructure <- factor(data$buildingStructure,labels = c(\"Unavailable\",\"Mixed\",\"Brick/Wood\",\"Brick/Concrete\",\n",
    "                                                                   \"Steel\",\"Steel/Concrete\"))"
   ]
  },
  {
   "cell_type": "code",
   "execution_count": 25,
   "metadata": {},
   "outputs": [
    {
     "data": {
      "text/plain": [
       "\n",
       "   Unavailable          Mixed     Brick/Wood Brick/Concrete          Steel \n",
       "            16         110651             61          13473            154 \n",
       "Steel/Concrete \n",
       "        173346 "
      ]
     },
     "metadata": {},
     "output_type": "display_data"
    }
   ],
   "source": [
    "table(data$buildingStructure)"
   ]
  },
  {
   "cell_type": "code",
   "execution_count": 26,
   "metadata": {},
   "outputs": [],
   "source": [
    "data$elevator <- factor(data$elevator,labels = c(\"No_elevator\",\"Has_Elevator\")) \n",
    "data$subway <- factor(data$subway,labels = c(\"No_Subway\",\"Has_Subway\"))\n",
    "data$fiveYearsProperty <- factor(data$fiveYearsProperty,labels = c(\"Ownership > 5y\",\"Ownership < 5y\"))"
   ]
  },
  {
   "cell_type": "code",
   "execution_count": 27,
   "metadata": {},
   "outputs": [
    {
     "data": {
      "text/plain": [
       "\n",
       "     1      2      3      4      5      6      7      8      9     10     11 \n",
       " 15930  27847   2210  14383   2622  35791 101139  35515  10430  29205  12119 \n",
       "    12     13 \n",
       "  1617   8893 "
      ]
     },
     "metadata": {},
     "output_type": "display_data"
    }
   ],
   "source": [
    "table(data$district)\n",
    "data$district <- factor(data$district,labels = c(\"DongCheng\",\"FengTai\",\"DaXing\",\"FaXing\",\"FangShang\",\"ChangPing\",\n",
    "                                                 \"ChaoYang\",\"HaiDian\",\"ShiJingShan\",\"XiCheng\",\"TongZhou\",\"ShunYi\",\"MenTouGou\"))"
   ]
  },
  {
   "cell_type": "code",
   "execution_count": 28,
   "metadata": {},
   "outputs": [
    {
     "data": {
      "text/plain": [
       "\n",
       "  DongCheng     FengTai      DaXing      FaXing   FangShang   ChangPing \n",
       "      15930       27847        2210       14383        2622       35791 \n",
       "   ChaoYang     HaiDian ShiJingShan     XiCheng    TongZhou      ShunYi \n",
       "     101139       35515       10430       29205       12119        1617 \n",
       "  MenTouGou \n",
       "       8893 "
      ]
     },
     "metadata": {},
     "output_type": "display_data"
    }
   ],
   "source": [
    "table(data$district)"
   ]
  },
  {
   "cell_type": "markdown",
   "metadata": {},
   "source": [
    "#### Cleaning continious variable"
   ]
  },
  {
   "cell_type": "code",
   "execution_count": 29,
   "metadata": {},
   "outputs": [
    {
     "data": {
      "image/png": "[encoded data removed]",
      "text/plain": [
       "Plot with title \"Histogram of data$ladderRatio\""
      ]
     },
     "metadata": {},
     "output_type": "display_data"
    }
   ],
   "source": [
    "hist(data$ladderRatio,col='skyblue')"
   ]
  },
  {
   "cell_type": "markdown",
   "metadata": {},
   "source": [
    "few values in ladder ratio is marked extremely high this can be true ladder ratio is described as how many ladders a resident have on average.\n",
    "\n",
    "checking the ladderRatio coloumn\n"
   ]
  },
  {
   "cell_type": "code",
   "execution_count": 30,
   "metadata": {},
   "outputs": [
    {
     "data": {
      "text/html": [
       "<table>\n",
       "<thead><tr><th scope=col>ladderRatio</th></tr></thead>\n",
       "<tbody>\n",
       "\t<tr><td>10009400</td></tr>\n",
       "\t<tr><td>10009400</td></tr>\n",
       "</tbody>\n",
       "</table>\n"
      ],
      "text/latex": [
       "\\begin{tabular}{r|l}\n",
       " ladderRatio\\\\\n",
       "\\hline\n",
       "\t 10009400\\\\\n",
       "\t 10009400\\\\\n",
       "\\end{tabular}\n"
      ],
      "text/markdown": [
       "\n",
       "| ladderRatio |\n",
       "|---|\n",
       "| 10009400 |\n",
       "| 10009400 |\n",
       "\n"
      ],
      "text/plain": [
       "  ladderRatio\n",
       "1 10009400   \n",
       "2 10009400   "
      ]
     },
     "metadata": {},
     "output_type": "display_data"
    }
   ],
   "source": [
    "data[data$ladderRatio>5,\"ladderRatio\"]"
   ]
  },
  {
   "cell_type": "markdown",
   "metadata": {},
   "source": [
    "removing these values"
   ]
  },
  {
   "cell_type": "code",
   "execution_count": 32,
   "metadata": {},
   "outputs": [
    {
     "data": {
      "image/png": "[encoded data removed]",
      "text/plain": [
       "Plot with title \"Histogram of data$ladderRatio\""
      ]
     },
     "metadata": {},
     "output_type": "display_data"
    }
   ],
   "source": [
    "data <- data[!data$ladderRatio>5,]\n",
    "hist(data$ladderRatio,col='skyblue')"
   ]
  },
  {
   "cell_type": "markdown",
   "metadata": {},
   "source": [
    "checking the price distribtion"
   ]
  },
  {
   "cell_type": "code",
   "execution_count": 34,
   "metadata": {},
   "outputs": [
    {
     "data": {
      "image/png": "[encoded data removed]",
      "text/plain": [
       "Plot with title \"Histogram of data$price\""
      ]
     },
     "metadata": {},
     "output_type": "display_data"
    }
   ],
   "source": [
    "hist(data$price,col='skyblue',breaks = 60)"
   ]
  },
  {
   "cell_type": "markdown",
   "metadata": {},
   "source": [
    "Checkin issue with total price"
   ]
  },
  {
   "cell_type": "code",
   "execution_count": 35,
   "metadata": {},
   "outputs": [
    {
     "data": {
      "image/png": "[encoded data removed]",
      "text/plain": [
       "plot without title"
      ]
     },
     "metadata": {},
     "output_type": "display_data"
    }
   ],
   "source": [
    "ggplot(data = data,mapping = aes(x=totalPrice))+geom_density()"
   ]
  },
  {
   "cell_type": "markdown",
   "metadata": {},
   "source": [
    "storing the data"
   ]
  },
  {
   "cell_type": "code",
   "execution_count": 36,
   "metadata": {},
   "outputs": [],
   "source": [
    "write.csv(x = data,file = \"cleaned_beijing.csv\")"
   ]
  },
  {
   "cell_type": "code",
   "execution_count": null,
   "metadata": {},
   "outputs": [],
   "source": []
  }
 ],
 "metadata": {
  "kernelspec": {
   "display_name": "R",
   "language": "R",
   "name": "ir"
  },
  "language_info": {
   "codemirror_mode": "r",
   "file_extension": ".r",
   "mimetype": "text/x-r-source",
   "name": "R",
   "pygments_lexer": "r",
   "version": "3.6.1"
  }
 },
 "nbformat": 4,
 "nbformat_minor": 4
}
